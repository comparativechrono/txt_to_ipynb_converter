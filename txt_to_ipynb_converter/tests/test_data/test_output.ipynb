{
 "cells": [
  {
   "cell_type": "markdown",
   "id": "9f9bed3f",
   "metadata": {},
   "source": [
    "# My Analysis\n",
    "\n"
   ]
  },
  {
   "cell_type": "code",
   "execution_count": null,
   "id": "73dc0ae2",
   "metadata": {},
   "outputs": [],
   "source": [
    "import numpy as np\n",
    "print(np.__version__)\n",
    "\n"
   ]
  },
  {
   "cell_type": "markdown",
   "id": "9b989a5c",
   "metadata": {},
   "source": [
    "## Data Loading Section\n"
   ]
  }
 ],
 "metadata": {},
 "nbformat": 4,
 "nbformat_minor": 5
}
